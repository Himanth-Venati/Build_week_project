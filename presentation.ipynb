{
 "cells": [
  {
   "cell_type": "code",
   "execution_count": 1,
   "metadata": {},
   "outputs": [],
   "source": [
    "from bs4 import BeautifulSoup\n",
    "import requests\n",
    "import pandas as pd\n",
    "import numpy as np"
   ]
  },
  {
   "cell_type": "code",
   "execution_count": 2,
   "metadata": {},
   "outputs": [],
   "source": [
    "def bookscraper(url):\n",
    "\n",
    "    '''\n",
    "    Gets all information of a specific book\n",
    "    :param url: url of one book\n",
    "    :return: dictionary with all information of a book\n",
    "    '''\n",
    "    page_book = requests.get(url)\n",
    "    soup_book = BeautifulSoup(page_book.content, 'html.parser')\n",
    "\n",
    "    title = None\n",
    "    author = None\n",
    "    num_reviews = None\n",
    "    num_ratings = None\n",
    "    avg_rating = None\n",
    "    num_pages = None\n",
    "    original_publish_year = None\n",
    "    genres = None\n",
    "    awards = None\n",
    "    places = None\n",
    "\n",
    "    try:\n",
    "        title = soup_book.find(\"h1\").text.strip()\n",
    "    except:\n",
    "        pass\n",
    "    try:\n",
    "        author = soup_book.find(\"span\", itemprop=\"name\").text.strip()\n",
    "    except:\n",
    "        pass\n",
    "    try:\n",
    "        num_reviews = int(soup_book.find(\"meta\", itemprop=\"reviewCount\").get('content'))\n",
    "    except:\n",
    "        pass\n",
    "    try:\n",
    "        num_ratings = int(soup_book.find(\"meta\", itemprop=\"ratingCount\").get('content'))\n",
    "    except:\n",
    "        pass\n",
    "    try:\n",
    "        avg_rating = float(soup_book.find(\"span\", itemprop=\"ratingValue\").text.strip())\n",
    "    except:\n",
    "        pass\n",
    "    try:\n",
    "        num_pages = int(soup_book.find(\"span\", itemprop=\"numberOfPages\").text.strip().split(' ')[0])\n",
    "    except:\n",
    "        pass\n",
    "    try:\n",
    "        details = soup_book.find(\"div\", id=\"details\")\n",
    "        original_publish_year = details.find_all(\"div\", class_=\"row\")[-1].text.strip().split(' ')\n",
    "        for element in original_publish_year:\n",
    "            try:\n",
    "                original_publish_year = int(element)\n",
    "                break\n",
    "            except:\n",
    "                pass\n",
    "\n",
    "    except:\n",
    "        pass\n",
    "    try:\n",
    "        series = soup_book.find(\"h2\", id=\"bookSeries\").text.strip()\n",
    "        if series.strip() == \"\" or series == None:\n",
    "            series = 0\n",
    "        else:\n",
    "            series = 1\n",
    "    except:\n",
    "        series = 0\n",
    "    try:\n",
    "        genres_list = soup_book.find_all(\"a\", class_=\"actionLinkLite bookPageGenreLink\")\n",
    "        genres = \";\".join([genre.text for genre in genres_list])\n",
    "    except:\n",
    "        pass\n",
    "    try:\n",
    "        awards_list = soup_book.find_all(\"a\", class_=\"award\")\n",
    "        awards = \";\".join([award.text for award in awards_list])\n",
    "    except:\n",
    "        pass\n",
    "    try:\n",
    "        places_detail = details.find(\"div\",id=\"bookDataBox\").findChildren(\"div\", recursive=False)\n",
    "        i=0\n",
    "        while i<len(places_detail):\n",
    "            if places_detail[i].text == \"Setting\":\n",
    "                places_html = places_detail[i+1]\n",
    "                break\n",
    "            i += 1\n",
    "        places = ';'.join([place.text for place in places_html.find_all('a')])\n",
    "    except:\n",
    "        pass\n",
    "\n",
    "    to_append = {\"url\": url , \"title\":title,\"author\":author,\"num_reviews\":num_reviews,\"num_ratings\":num_ratings,\"avg_rating\":avg_rating,\\\n",
    "                 \"num_pages\":num_pages,\"original_publish_year\":original_publish_year,\"series\":series,\"genres\":genres,\"awards\":awards,\"places\":places}\n",
    "    return to_append"
   ]
  },
  {
   "cell_type": "code",
   "execution_count": 3,
   "metadata": {},
   "outputs": [],
   "source": [
    "def scraper():\n",
    "    '''\n",
    "    Loop all best Dystopian_and_Post_Apocalyptic_Fiction books in goodreads webpage\n",
    "    :return: save a csv document with all information books\n",
    "    '''\n",
    "    base_url = 'https://www.goodreads.com'\n",
    "\n",
    "    for i in range(1,12):\n",
    "        df = pd.DataFrame(columns=[\"url\", \"title\", \"author\", \"num_reviews\", \"num_ratings\", \"avg_rating\", \"num_pages\",\n",
    "                                   \"original_publish_year\", \"series\", \"genres\", \"awards\", \"places\"])\n",
    "        page = requests.get(f'https://www.goodreads.com/list/show/29013.Best_Biographies_?page={i}')\n",
    "        soup = BeautifulSoup(page.content, 'html.parser')\n",
    "        book_titles = soup.find_all('a', class_=\"bookTitle\")\n",
    "        for book in book_titles:\n",
    "            try:\n",
    "                id_book = book.get('href')\n",
    "                data_to_append = bookscraper(base_url+id_book)\n",
    "                df_to_append = pd.DataFrame(data_to_append, index=[0])\n",
    "                df = df.append(df_to_append, ignore_index=True)\n",
    "            except:\n",
    "                pass\n",
    "        df.to_csv(path_or_buf='book_data.csv', mode='a', sep='&', header=True)"
   ]
  },
  {
   "cell_type": "code",
   "execution_count": 4,
   "metadata": {},
   "outputs": [],
   "source": [
    "data=scraper()"
   ]
  },
  {
   "cell_type": "code",
   "execution_count": 7,
   "metadata": {},
   "outputs": [
    {
     "data": {
      "text/html": [
       "<div>\n",
       "<style scoped>\n",
       "    .dataframe tbody tr th:only-of-type {\n",
       "        vertical-align: middle;\n",
       "    }\n",
       "\n",
       "    .dataframe tbody tr th {\n",
       "        vertical-align: top;\n",
       "    }\n",
       "\n",
       "    .dataframe thead th {\n",
       "        text-align: right;\n",
       "    }\n",
       "</style>\n",
       "<table border=\"1\" class=\"dataframe\">\n",
       "  <thead>\n",
       "    <tr style=\"text-align: right;\">\n",
       "      <th></th>\n",
       "      <th>Unnamed: 0</th>\n",
       "      <th>url</th>\n",
       "      <th>title</th>\n",
       "      <th>author</th>\n",
       "      <th>num_reviews</th>\n",
       "      <th>num_ratings</th>\n",
       "      <th>avg_rating</th>\n",
       "      <th>num_pages</th>\n",
       "      <th>original_publish_year</th>\n",
       "      <th>series</th>\n",
       "      <th>genres</th>\n",
       "      <th>awards</th>\n",
       "      <th>places</th>\n",
       "    </tr>\n",
       "  </thead>\n",
       "  <tbody>\n",
       "    <tr>\n",
       "      <th>0</th>\n",
       "      <td>0.0</td>\n",
       "      <td>https://www.goodreads.com/book/show/11084145-s...</td>\n",
       "      <td>Steve Jobs</td>\n",
       "      <td>Walter Isaacson</td>\n",
       "      <td>19583</td>\n",
       "      <td>1077829</td>\n",
       "      <td>4.15</td>\n",
       "      <td>627</td>\n",
       "      <td>2011</td>\n",
       "      <td>0</td>\n",
       "      <td>Biography;Nonfiction;Business;Science;Technolo...</td>\n",
       "      <td>Financial Times and McKinsey Business Book of ...</td>\n",
       "      <td>San Francisco Bay Area, California</td>\n",
       "    </tr>\n",
       "    <tr>\n",
       "      <th>1</th>\n",
       "      <td>1.0</td>\n",
       "      <td>https://www.goodreads.com/book/show/8664353-un...</td>\n",
       "      <td>Unbroken: A World War II Story of Survival, Re...</td>\n",
       "      <td>NaN</td>\n",
       "      <td>NaN</td>\n",
       "      <td>NaN</td>\n",
       "      <td>NaN</td>\n",
       "      <td>NaN</td>\n",
       "      <td>NaN</td>\n",
       "      <td>0</td>\n",
       "      <td>NaN</td>\n",
       "      <td>NaN</td>\n",
       "      <td>NaN</td>\n",
       "    </tr>\n",
       "    <tr>\n",
       "      <th>2</th>\n",
       "      <td>2.0</td>\n",
       "      <td>https://www.goodreads.com/book/show/10884.Eins...</td>\n",
       "      <td>Einstein: His Life and Universe</td>\n",
       "      <td>Walter Isaacson</td>\n",
       "      <td>3838</td>\n",
       "      <td>158340</td>\n",
       "      <td>4.12</td>\n",
       "      <td>675</td>\n",
       "      <td>2007</td>\n",
       "      <td>0</td>\n",
       "      <td>Biography;Nonfiction;Science;History;Science;P...</td>\n",
       "      <td>Audie Award for Biography/Memoir (2008)</td>\n",
       "      <td>Europe</td>\n",
       "    </tr>\n",
       "  </tbody>\n",
       "</table>\n",
       "</div>"
      ],
      "text/plain": [
       "   Unnamed: 0                                                url  \\\n",
       "0         0.0  https://www.goodreads.com/book/show/11084145-s...   \n",
       "1         1.0  https://www.goodreads.com/book/show/8664353-un...   \n",
       "2         2.0  https://www.goodreads.com/book/show/10884.Eins...   \n",
       "\n",
       "                                               title           author  \\\n",
       "0                                         Steve Jobs  Walter Isaacson   \n",
       "1  Unbroken: A World War II Story of Survival, Re...              NaN   \n",
       "2                    Einstein: His Life and Universe  Walter Isaacson   \n",
       "\n",
       "  num_reviews num_ratings avg_rating num_pages original_publish_year series  \\\n",
       "0       19583     1077829       4.15       627                  2011      0   \n",
       "1         NaN         NaN        NaN       NaN                   NaN      0   \n",
       "2        3838      158340       4.12       675                  2007      0   \n",
       "\n",
       "                                              genres  \\\n",
       "0  Biography;Nonfiction;Business;Science;Technolo...   \n",
       "1                                                NaN   \n",
       "2  Biography;Nonfiction;Science;History;Science;P...   \n",
       "\n",
       "                                              awards  \\\n",
       "0  Financial Times and McKinsey Business Book of ...   \n",
       "1                                                NaN   \n",
       "2            Audie Award for Biography/Memoir (2008)   \n",
       "\n",
       "                               places  \n",
       "0  San Francisco Bay Area, California  \n",
       "1                                 NaN  \n",
       "2                              Europe  "
      ]
     },
     "execution_count": 7,
     "metadata": {},
     "output_type": "execute_result"
    }
   ],
   "source": [
    "data=pd.read_csv('C:/Users/Venati Himanth/OneDrive/Desktop/my/book_data.csv', sep='&')\n",
    "data.head(3)"
   ]
  },
  {
   "cell_type": "code",
   "execution_count": 8,
   "metadata": {},
   "outputs": [],
   "source": [
    "data['awards'] = data['awards'].str.split(';').str.len()"
   ]
  },
  {
   "cell_type": "code",
   "execution_count": 9,
   "metadata": {},
   "outputs": [],
   "source": [
    "data['awards']=data.awards.fillna(0)"
   ]
  },
  {
   "cell_type": "code",
   "execution_count": 10,
   "metadata": {},
   "outputs": [],
   "source": [
    "data['awards']=data.awards.astype(int)"
   ]
  },
  {
   "cell_type": "code",
   "execution_count": 11,
   "metadata": {},
   "outputs": [
    {
     "data": {
      "text/plain": [
       "Unnamed: 0                10\n",
       "url                        0\n",
       "title                      0\n",
       "author                   125\n",
       "num_reviews              125\n",
       "num_ratings              125\n",
       "avg_rating               125\n",
       "num_pages                175\n",
       "original_publish_year    126\n",
       "series                     0\n",
       "genres                   222\n",
       "awards                     0\n",
       "places                   990\n",
       "dtype: int64"
      ]
     },
     "execution_count": 11,
     "metadata": {},
     "output_type": "execute_result"
    }
   ],
   "source": [
    "data.isnull().sum()"
   ]
  },
  {
   "cell_type": "code",
   "execution_count": 12,
   "metadata": {},
   "outputs": [],
   "source": [
    "# drop all rows with any NaN and NaT values\n",
    "#TODO think which columns can't have None values and drop na\n",
    "data= data.dropna(subset=['author'])\n",
    "data= data.dropna(subset=['num_reviews'])\n",
    "data=data.dropna(subset=['num_ratings'])\n",
    "data = data.dropna(subset=['avg_rating'])\n",
    "#data = data.drop_duplicates(subset=['title'])\n",
    "data = data.reset_index(drop=True)"
   ]
  },
  {
   "cell_type": "code",
   "execution_count": 13,
   "metadata": {},
   "outputs": [
    {
     "name": "stdout",
     "output_type": "stream",
     "text": [
      "(972, 13)\n",
      "Unnamed: 0                10\n",
      "url                        0\n",
      "title                      0\n",
      "author                     0\n",
      "num_reviews                0\n",
      "num_ratings                0\n",
      "avg_rating                 0\n",
      "num_pages                 50\n",
      "original_publish_year      1\n",
      "series                     0\n",
      "genres                    97\n",
      "awards                     0\n",
      "places                   865\n",
      "dtype: int64\n"
     ]
    }
   ],
   "source": [
    "#checking the shape after droping the null values\n",
    "print(data.shape)\n",
    "#finding the null values in the dataset\n",
    "print(data.isnull().sum())"
   ]
  },
  {
   "cell_type": "code",
   "execution_count": 14,
   "metadata": {},
   "outputs": [
    {
     "data": {
      "text/html": [
       "<div>\n",
       "<style scoped>\n",
       "    .dataframe tbody tr th:only-of-type {\n",
       "        vertical-align: middle;\n",
       "    }\n",
       "\n",
       "    .dataframe tbody tr th {\n",
       "        vertical-align: top;\n",
       "    }\n",
       "\n",
       "    .dataframe thead th {\n",
       "        text-align: right;\n",
       "    }\n",
       "</style>\n",
       "<table border=\"1\" class=\"dataframe\">\n",
       "  <thead>\n",
       "    <tr style=\"text-align: right;\">\n",
       "      <th></th>\n",
       "      <th>Unnamed: 0</th>\n",
       "      <th>url</th>\n",
       "      <th>title</th>\n",
       "      <th>author</th>\n",
       "      <th>num_reviews</th>\n",
       "      <th>num_ratings</th>\n",
       "      <th>avg_rating</th>\n",
       "      <th>num_pages</th>\n",
       "      <th>original_publish_year</th>\n",
       "      <th>series</th>\n",
       "      <th>genres</th>\n",
       "      <th>awards</th>\n",
       "      <th>places</th>\n",
       "    </tr>\n",
       "  </thead>\n",
       "  <tbody>\n",
       "    <tr>\n",
       "      <th>0</th>\n",
       "      <td>0.0</td>\n",
       "      <td>https://www.goodreads.com/book/show/11084145-s...</td>\n",
       "      <td>Steve Jobs</td>\n",
       "      <td>Walter Isaacson</td>\n",
       "      <td>19583</td>\n",
       "      <td>1077829</td>\n",
       "      <td>4.15</td>\n",
       "      <td>627</td>\n",
       "      <td>2011</td>\n",
       "      <td>0</td>\n",
       "      <td>Biography;Nonfiction;Business;Science;Technolo...</td>\n",
       "      <td>3</td>\n",
       "      <td>San Francisco Bay Area, California</td>\n",
       "    </tr>\n",
       "    <tr>\n",
       "      <th>1</th>\n",
       "      <td>2.0</td>\n",
       "      <td>https://www.goodreads.com/book/show/10884.Eins...</td>\n",
       "      <td>Einstein: His Life and Universe</td>\n",
       "      <td>Walter Isaacson</td>\n",
       "      <td>3838</td>\n",
       "      <td>158340</td>\n",
       "      <td>4.12</td>\n",
       "      <td>675</td>\n",
       "      <td>2007</td>\n",
       "      <td>0</td>\n",
       "      <td>Biography;Nonfiction;Science;History;Science;P...</td>\n",
       "      <td>1</td>\n",
       "      <td>Europe</td>\n",
       "    </tr>\n",
       "    <tr>\n",
       "      <th>2</th>\n",
       "      <td>3.0</td>\n",
       "      <td>https://www.goodreads.com/book/show/1845.Into_...</td>\n",
       "      <td>Into the Wild</td>\n",
       "      <td>Jon Krakauer</td>\n",
       "      <td>23442</td>\n",
       "      <td>954540</td>\n",
       "      <td>3.99</td>\n",
       "      <td>207</td>\n",
       "      <td>1997</td>\n",
       "      <td>0</td>\n",
       "      <td>Nonfiction;Biography;Travel;Adventure;Classics...</td>\n",
       "      <td>1</td>\n",
       "      <td>Mexico;Virginia;The Slabs, Mojave Desert, Cali...</td>\n",
       "    </tr>\n",
       "    <tr>\n",
       "      <th>3</th>\n",
       "      <td>4.0</td>\n",
       "      <td>https://www.goodreads.com/book/show/2203.John_...</td>\n",
       "      <td>John Adams</td>\n",
       "      <td>David McCullough</td>\n",
       "      <td>6622</td>\n",
       "      <td>344212</td>\n",
       "      <td>4.04</td>\n",
       "      <td>751</td>\n",
       "      <td>2001</td>\n",
       "      <td>0</td>\n",
       "      <td>History;Biography;Nonfiction;North American Hi...</td>\n",
       "      <td>6</td>\n",
       "      <td>Boston, Massachusetts;Philadelphia, Pennsylvania</td>\n",
       "    </tr>\n",
       "    <tr>\n",
       "      <th>4</th>\n",
       "      <td>5.0</td>\n",
       "      <td>https://www.goodreads.com/book/show/2199.Team_...</td>\n",
       "      <td>Team of Rivals: The Political Genius of Abraha...</td>\n",
       "      <td>Doris Kearns Goodwin</td>\n",
       "      <td>7504</td>\n",
       "      <td>178160</td>\n",
       "      <td>4.22</td>\n",
       "      <td>916</td>\n",
       "      <td>2006</td>\n",
       "      <td>0</td>\n",
       "      <td>History;Nonfiction;Biography;Politics;North Am...</td>\n",
       "      <td>4</td>\n",
       "      <td>Springfield, Illinois;Chicago, Illinois;Illinois</td>\n",
       "    </tr>\n",
       "    <tr>\n",
       "      <th>...</th>\n",
       "      <td>...</td>\n",
       "      <td>...</td>\n",
       "      <td>...</td>\n",
       "      <td>...</td>\n",
       "      <td>...</td>\n",
       "      <td>...</td>\n",
       "      <td>...</td>\n",
       "      <td>...</td>\n",
       "      <td>...</td>\n",
       "      <td>...</td>\n",
       "      <td>...</td>\n",
       "      <td>...</td>\n",
       "      <td>...</td>\n",
       "    </tr>\n",
       "    <tr>\n",
       "      <th>967</th>\n",
       "      <td>94.0</td>\n",
       "      <td>https://www.goodreads.com/book/show/78393.Sex_...</td>\n",
       "      <td>Sex with Kings: 500 Years of Adultery, Power, ...</td>\n",
       "      <td>Eleanor Herman</td>\n",
       "      <td>821</td>\n",
       "      <td>7057</td>\n",
       "      <td>3.69</td>\n",
       "      <td>304</td>\n",
       "      <td>2005</td>\n",
       "      <td>0</td>\n",
       "      <td>History;Nonfiction;Historical;Biography;Histor...</td>\n",
       "      <td>0</td>\n",
       "      <td>NaN</td>\n",
       "    </tr>\n",
       "    <tr>\n",
       "      <th>968</th>\n",
       "      <td>95.0</td>\n",
       "      <td>https://www.goodreads.com/book/show/571622._We...</td>\n",
       "      <td>\"We are Lincoln Men\": Abraham Lincoln and His ...</td>\n",
       "      <td>David Herbert Donald</td>\n",
       "      <td>27</td>\n",
       "      <td>377</td>\n",
       "      <td>4.0</td>\n",
       "      <td>269</td>\n",
       "      <td>2003</td>\n",
       "      <td>0</td>\n",
       "      <td>History;Military History;Civil War;Biography;N...</td>\n",
       "      <td>0</td>\n",
       "      <td>NaN</td>\n",
       "    </tr>\n",
       "    <tr>\n",
       "      <th>969</th>\n",
       "      <td>97.0</td>\n",
       "      <td>https://www.goodreads.com/book/show/667678.Col...</td>\n",
       "      <td>Coltrane: Chasin' the Trane</td>\n",
       "      <td>J.C. Thomas</td>\n",
       "      <td>15</td>\n",
       "      <td>265</td>\n",
       "      <td>3.92</td>\n",
       "      <td>280</td>\n",
       "      <td>1976</td>\n",
       "      <td>0</td>\n",
       "      <td>Music;Biography;Music;Jazz;Nonfiction;History</td>\n",
       "      <td>0</td>\n",
       "      <td>NaN</td>\n",
       "    </tr>\n",
       "    <tr>\n",
       "      <th>970</th>\n",
       "      <td>98.0</td>\n",
       "      <td>https://www.goodreads.com/book/show/7939034-th...</td>\n",
       "      <td>The End and the Beginning: Pope John Paul II -...</td>\n",
       "      <td>George Weigel</td>\n",
       "      <td>29</td>\n",
       "      <td>198</td>\n",
       "      <td>4.34</td>\n",
       "      <td>608</td>\n",
       "      <td>2010</td>\n",
       "      <td>0</td>\n",
       "      <td>Religion;History;Nonfiction;Biography;Christia...</td>\n",
       "      <td>1</td>\n",
       "      <td>NaN</td>\n",
       "    </tr>\n",
       "    <tr>\n",
       "      <th>971</th>\n",
       "      <td>99.0</td>\n",
       "      <td>https://www.goodreads.com/book/show/20576213-g...</td>\n",
       "      <td>Genie en Wereld - Toulouse-Lautrec</td>\n",
       "      <td>Gérard Baüer</td>\n",
       "      <td>0</td>\n",
       "      <td>1</td>\n",
       "      <td>3.0</td>\n",
       "      <td>NaN</td>\n",
       "      <td>1969</td>\n",
       "      <td>0</td>\n",
       "      <td>NaN</td>\n",
       "      <td>0</td>\n",
       "      <td>NaN</td>\n",
       "    </tr>\n",
       "  </tbody>\n",
       "</table>\n",
       "<p>963 rows × 13 columns</p>\n",
       "</div>"
      ],
      "text/plain": [
       "     Unnamed: 0                                                url  \\\n",
       "0           0.0  https://www.goodreads.com/book/show/11084145-s...   \n",
       "1           2.0  https://www.goodreads.com/book/show/10884.Eins...   \n",
       "2           3.0  https://www.goodreads.com/book/show/1845.Into_...   \n",
       "3           4.0  https://www.goodreads.com/book/show/2203.John_...   \n",
       "4           5.0  https://www.goodreads.com/book/show/2199.Team_...   \n",
       "..          ...                                                ...   \n",
       "967        94.0  https://www.goodreads.com/book/show/78393.Sex_...   \n",
       "968        95.0  https://www.goodreads.com/book/show/571622._We...   \n",
       "969        97.0  https://www.goodreads.com/book/show/667678.Col...   \n",
       "970        98.0  https://www.goodreads.com/book/show/7939034-th...   \n",
       "971        99.0  https://www.goodreads.com/book/show/20576213-g...   \n",
       "\n",
       "                                                 title                author  \\\n",
       "0                                           Steve Jobs       Walter Isaacson   \n",
       "1                      Einstein: His Life and Universe       Walter Isaacson   \n",
       "2                                        Into the Wild          Jon Krakauer   \n",
       "3                                           John Adams      David McCullough   \n",
       "4    Team of Rivals: The Political Genius of Abraha...  Doris Kearns Goodwin   \n",
       "..                                                 ...                   ...   \n",
       "967  Sex with Kings: 500 Years of Adultery, Power, ...        Eleanor Herman   \n",
       "968  \"We are Lincoln Men\": Abraham Lincoln and His ...  David Herbert Donald   \n",
       "969                        Coltrane: Chasin' the Trane           J.C. Thomas   \n",
       "970  The End and the Beginning: Pope John Paul II -...         George Weigel   \n",
       "971                 Genie en Wereld - Toulouse-Lautrec          Gérard Baüer   \n",
       "\n",
       "    num_reviews num_ratings avg_rating num_pages original_publish_year series  \\\n",
       "0         19583     1077829       4.15       627                  2011      0   \n",
       "1          3838      158340       4.12       675                  2007      0   \n",
       "2         23442      954540       3.99       207                  1997      0   \n",
       "3          6622      344212       4.04       751                  2001      0   \n",
       "4          7504      178160       4.22       916                  2006      0   \n",
       "..          ...         ...        ...       ...                   ...    ...   \n",
       "967         821        7057       3.69       304                  2005      0   \n",
       "968          27         377        4.0       269                  2003      0   \n",
       "969          15         265       3.92       280                  1976      0   \n",
       "970          29         198       4.34       608                  2010      0   \n",
       "971           0           1        3.0       NaN                  1969      0   \n",
       "\n",
       "                                                genres  awards  \\\n",
       "0    Biography;Nonfiction;Business;Science;Technolo...       3   \n",
       "1    Biography;Nonfiction;Science;History;Science;P...       1   \n",
       "2    Nonfiction;Biography;Travel;Adventure;Classics...       1   \n",
       "3    History;Biography;Nonfiction;North American Hi...       6   \n",
       "4    History;Nonfiction;Biography;Politics;North Am...       4   \n",
       "..                                                 ...     ...   \n",
       "967  History;Nonfiction;Historical;Biography;Histor...       0   \n",
       "968  History;Military History;Civil War;Biography;N...       0   \n",
       "969      Music;Biography;Music;Jazz;Nonfiction;History       0   \n",
       "970  Religion;History;Nonfiction;Biography;Christia...       1   \n",
       "971                                                NaN       0   \n",
       "\n",
       "                                                places  \n",
       "0                   San Francisco Bay Area, California  \n",
       "1                                               Europe  \n",
       "2    Mexico;Virginia;The Slabs, Mojave Desert, Cali...  \n",
       "3     Boston, Massachusetts;Philadelphia, Pennsylvania  \n",
       "4     Springfield, Illinois;Chicago, Illinois;Illinois  \n",
       "..                                                 ...  \n",
       "967                                                NaN  \n",
       "968                                                NaN  \n",
       "969                                                NaN  \n",
       "970                                                NaN  \n",
       "971                                                NaN  \n",
       "\n",
       "[963 rows x 13 columns]"
      ]
     },
     "execution_count": 14,
     "metadata": {},
     "output_type": "execute_result"
    }
   ],
   "source": [
    "#Here we are dropping the Duplicate observations in the data frame\n",
    "data.drop_duplicates()"
   ]
  },
  {
   "cell_type": "code",
   "execution_count": 15,
   "metadata": {},
   "outputs": [
    {
     "data": {
      "text/plain": [
       "False    972\n",
       "Name: author, dtype: int64"
      ]
     },
     "execution_count": 15,
     "metadata": {},
     "output_type": "execute_result"
    }
   ],
   "source": [
    "#checking the Author column containing the numerice values count\n",
    "data.author.str.contains(r'[0-9]').value_counts()"
   ]
  },
  {
   "cell_type": "code",
   "execution_count": 16,
   "metadata": {},
   "outputs": [],
   "source": [
    "#Converting the object data type to numerice data type\n",
    "data['avg_rating'] = pd.to_numeric(data['avg_rating'],errors = 'coerce')"
   ]
  },
  {
   "cell_type": "code",
   "execution_count": 17,
   "metadata": {},
   "outputs": [],
   "source": [
    "# MinMax Normilization on avg_rating and scaling from 0 to 10 and saving it into the minmax_norm_rating\n",
    "data['minmax_norm_rating'] = 1 + (data['avg_rating'] - data['avg_rating'].min()) / (data['avg_rating'].max() - data['avg_rating'].min()) * 9"
   ]
  },
  {
   "cell_type": "code",
   "execution_count": 18,
   "metadata": {},
   "outputs": [],
   "source": [
    "# Mean normilization\n",
    "data['mean_norm_rating'] = 1 + (data['avg_rating'] - data['avg_rating'].mean()) / (data['avg_rating'].max() - data['avg_rating'].min()) * 9"
   ]
  },
  {
   "cell_type": "code",
   "execution_count": 20,
   "metadata": {},
   "outputs": [],
   "source": [
    "# Converting the awards column into numerical data\n",
    "\n",
    "data = data.rename(columns={'title': 'Title', 'original_publish_year': 'Publication_year', 'minmax_norm_rating': 'Rating', 'awards':'Awards', 'num_pages':'Nº pages', 'series':'Series'})"
   ]
  },
  {
   "cell_type": "code",
   "execution_count": 21,
   "metadata": {},
   "outputs": [],
   "source": [
    "# analysis for the authors book publication\n",
    "def best_author_book(author, data):\n",
    " return data[data['author']==author].sort_values(\"Rating\", ascending=False)['Title'].head(1).item()"
   ]
  },
  {
   "cell_type": "code",
   "execution_count": 22,
   "metadata": {},
   "outputs": [
    {
     "data": {
      "text/plain": [
       "'Nicholas And Alexandra'"
      ]
     },
     "execution_count": 22,
     "metadata": {},
     "output_type": "execute_result"
    }
   ],
   "source": [
    "#finding the best authors book by giving the author name to the function\n",
    "best_author_book(author='Robert K. Massie',data=data)"
   ]
  },
  {
   "cell_type": "code",
   "execution_count": 23,
   "metadata": {},
   "outputs": [],
   "source": [
    "# analysis for the finding the author on the year based on the Ratings\n",
    "def best_author_year(Publication_year, data):\n",
    " return data[data['Publication_year']==Publication_year].sort_values(\"Rating\", ascending=False)['author'].head(1).item()"
   ]
  },
  {
   "cell_type": "code",
   "execution_count": 24,
   "metadata": {},
   "outputs": [
    {
     "data": {
      "text/plain": [
       "'Martin Lings'"
      ]
     },
     "execution_count": 24,
     "metadata": {},
     "output_type": "execute_result"
    }
   ],
   "source": [
    "#finding the best author by giving the publication_year to the function\n",
    "best_author_year(Publication_year='2006',data=data)"
   ]
  },
  {
   "cell_type": "code",
   "execution_count": 25,
   "metadata": {},
   "outputs": [
    {
     "data": {
      "text/plain": [
       "Publication_year\n",
       "1952                     8.506000\n",
       "1956                     8.200000\n",
       "1960                     8.470000\n",
       "1964                     8.974000\n",
       "1966                     6.400000\n",
       "                           ...   \n",
       "2019                     8.307419\n",
       "2020                     9.253391\n",
       "2021                     8.377750\n",
       "2022                     6.250000\n",
       "original_publish_year         NaN\n",
       "Name: Rating, Length: 61, dtype: float64"
      ]
     },
     "execution_count": 25,
     "metadata": {},
     "output_type": "execute_result"
    }
   ],
   "source": [
    "#Group the books by original_publish_year and get the mean of the minmax_norm_ratings of the groups\n",
    "\n",
    "data.groupby(['Publication_year'])['Rating'].mean()"
   ]
  },
  {
   "cell_type": "code",
   "execution_count": 30,
   "metadata": {},
   "outputs": [],
   "source": [
    "data.to_csv('my_data.csv',sep='&',index=True)"
   ]
  },
  {
   "cell_type": "code",
   "execution_count": 32,
   "metadata": {},
   "outputs": [],
   "source": [
    "new_data=pd.read_csv('C:/Users/Venati Himanth/OneDrive/Desktop/my/my_data.csv',sep='&')"
   ]
  },
  {
   "cell_type": "markdown",
   "metadata": {},
   "source": [
    "new_data"
   ]
  },
  {
   "cell_type": "code",
   "execution_count": 46,
   "metadata": {},
   "outputs": [
    {
     "name": "stdout",
     "output_type": "stream",
     "text": [
      "<class 'pandas.core.frame.DataFrame'>\n",
      "RangeIndex: 972 entries, 0 to 971\n",
      "Data columns (total 16 columns):\n",
      " #   Column            Non-Null Count  Dtype  \n",
      "---  ------            --------------  -----  \n",
      " 0   Unnamed: 0        972 non-null    int64  \n",
      " 1   Unnamed: 0.1      962 non-null    float64\n",
      " 2   url               972 non-null    object \n",
      " 3   Title             972 non-null    object \n",
      " 4   author            972 non-null    object \n",
      " 5   num_reviews       972 non-null    object \n",
      " 6   num_ratings       972 non-null    object \n",
      " 7   avg_rating        962 non-null    float64\n",
      " 8   Nº pages          922 non-null    object \n",
      " 9   Publication_year  971 non-null    object \n",
      " 10  Series            972 non-null    object \n",
      " 11  genres            875 non-null    object \n",
      " 12  Awards            972 non-null    int64  \n",
      " 13  places            107 non-null    object \n",
      " 14  Rating            962 non-null    float64\n",
      " 15  mean_norm_rating  962 non-null    float64\n",
      "dtypes: float64(4), int64(2), object(10)\n",
      "memory usage: 121.6+ KB\n"
     ]
    }
   ],
   "source": [
    "new_data.info()"
   ]
  }
 ],
 "metadata": {
  "interpreter": {
   "hash": "8e98eea00a698c66ff9007bd5a8bf6209cdaa78d416205c57d24ef9296d8223a"
  },
  "kernelspec": {
   "display_name": "Python 3.8.12 64-bit ('strive': conda)",
   "language": "python",
   "name": "python3"
  },
  "language_info": {
   "codemirror_mode": {
    "name": "ipython",
    "version": 3
   },
   "file_extension": ".py",
   "mimetype": "text/x-python",
   "name": "python",
   "nbconvert_exporter": "python",
   "pygments_lexer": "ipython3",
   "version": "3.8.12"
  },
  "orig_nbformat": 4
 },
 "nbformat": 4,
 "nbformat_minor": 2
}
